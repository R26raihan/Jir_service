{
 "cells": [
  {
   "cell_type": "code",
   "execution_count": 6,
   "id": "319b71b3-4c6c-47f0-9c63-c04337706a49",
   "metadata": {},
   "outputs": [
    {
     "data": {
      "text/html": [
       "\n",
       "            <style>\n",
       "                .geemap-dark {\n",
       "                    --jp-widgets-color: white;\n",
       "                    --jp-widgets-label-color: white;\n",
       "                    --jp-ui-font-color1: white;\n",
       "                    --jp-layout-color2: #454545;\n",
       "                    background-color: #383838;\n",
       "                }\n",
       "\n",
       "                .geemap-dark .jupyter-button {\n",
       "                    --jp-layout-color3: #383838;\n",
       "                }\n",
       "\n",
       "                .geemap-colab {\n",
       "                    background-color: var(--colab-primary-surface-color, white);\n",
       "                }\n",
       "\n",
       "                .geemap-colab .jupyter-button {\n",
       "                    --jp-layout-color3: var(--colab-primary-surface-color, white);\n",
       "                }\n",
       "            </style>\n",
       "            "
      ],
      "text/plain": [
       "<IPython.core.display.HTML object>"
      ]
     },
     "metadata": {},
     "output_type": "display_data"
    }
   ],
   "source": [
    "import ee\n",
    "ee.Authenticate()  \n",
    "ee.Initialize()"
   ]
  },
  {
   "cell_type": "code",
   "execution_count": 12,
   "id": "66cfef4d-80a0-4b29-b991-e66e4cae8182",
   "metadata": {},
   "outputs": [
    {
     "data": {
      "text/html": [
       "\n",
       "            <style>\n",
       "                .geemap-dark {\n",
       "                    --jp-widgets-color: white;\n",
       "                    --jp-widgets-label-color: white;\n",
       "                    --jp-ui-font-color1: white;\n",
       "                    --jp-layout-color2: #454545;\n",
       "                    background-color: #383838;\n",
       "                }\n",
       "\n",
       "                .geemap-dark .jupyter-button {\n",
       "                    --jp-layout-color3: #383838;\n",
       "                }\n",
       "\n",
       "                .geemap-colab {\n",
       "                    background-color: var(--colab-primary-surface-color, white);\n",
       "                }\n",
       "\n",
       "                .geemap-colab .jupyter-button {\n",
       "                    --jp-layout-color3: var(--colab-primary-surface-color, white);\n",
       "                }\n",
       "            </style>\n",
       "            "
      ],
      "text/plain": [
       "<IPython.core.display.HTML object>"
      ]
     },
     "metadata": {},
     "output_type": "display_data"
    },
    {
     "name": "stdout",
     "output_type": "stream",
     "text": [
      "Tanggal citra terbaru: 2025-06-12\n"
     ]
    },
    {
     "data": {
      "application/vnd.jupyter.widget-view+json": {
       "model_id": "b8ebfa7013a449db931d41be8a1a3929",
       "version_major": 2,
       "version_minor": 0
      },
      "text/plain": [
       "Map(center=[-6.2, 106.8], controls=(WidgetControl(options=['position', 'transparent_bg'], widget=SearchDataGUI…"
      ]
     },
     "execution_count": 12,
     "metadata": {},
     "output_type": "execute_result"
    }
   ],
   "source": [
    "import ee\n",
    "import geemap\n",
    "from datetime import datetime, timedelta\n",
    "\n",
    "# Inisialisasi EE\n",
    "ee.Initialize()\n",
    "\n",
    "# Area Jakarta\n",
    "jakarta = ee.Geometry.Rectangle([106.6, -6.4, 107.0, -6.1])\n",
    "\n",
    "# Cari citra Sentinel-1 terbaru\n",
    "def get_latest_sentinel1_vv(region, days_back=60):\n",
    "    today = datetime.utcnow()\n",
    "    start_date = today - timedelta(days=days_back)\n",
    "\n",
    "    collection = (ee.ImageCollection('COPERNICUS/S1_GRD')\n",
    "                  .filterBounds(region)\n",
    "                  .filterDate(start_date.strftime('%Y-%m-%d'), today.strftime('%Y-%m-%d'))\n",
    "                  .filter(ee.Filter.eq('instrumentMode', 'IW'))\n",
    "                  .filter(ee.Filter.eq('orbitProperties_pass', 'DESCENDING'))\n",
    "                  .filter(ee.Filter.listContains('transmitterReceiverPolarisation', 'VV'))\n",
    "                  .sort('system:time_start', False))  # Urut dari terbaru\n",
    "\n",
    "    image = collection.first()\n",
    "    info = image.get('system:time_start').getInfo()\n",
    "    date_str = datetime.utcfromtimestamp(info / 1000).strftime('%Y-%m-%d')\n",
    "\n",
    "    return image.select('VV').clip(region), date_str\n",
    "\n",
    "# Ambil citra terbaru\n",
    "latest_img, latest_date = get_latest_sentinel1_vv(jakarta)\n",
    "print(\"Tanggal citra terbaru:\", latest_date)\n",
    "\n",
    "# Tampilkan di peta\n",
    "Map = geemap.Map(center=[-6.2, 106.8], zoom=10)\n",
    "Map.addLayer(latest_img, {'min': -25, 'max': 0}, f'Sentinel-1 VV {latest_date}')\n",
    "Map.addLayer(jakarta, {}, 'Jakarta AOI', False)\n",
    "Map\n"
   ]
  },
  {
   "cell_type": "code",
   "execution_count": null,
   "id": "1cc82bb0-43b4-41de-84f8-258dac45a7b1",
   "metadata": {},
   "outputs": [],
   "source": []
  }
 ],
 "metadata": {
  "kernelspec": {
   "display_name": "Python 3 (ipykernel)",
   "language": "python",
   "name": "python3"
  },
  "language_info": {
   "codemirror_mode": {
    "name": "ipython",
    "version": 3
   },
   "file_extension": ".py",
   "mimetype": "text/x-python",
   "name": "python",
   "nbconvert_exporter": "python",
   "pygments_lexer": "ipython3",
   "version": "3.13.4"
  }
 },
 "nbformat": 4,
 "nbformat_minor": 5
}
